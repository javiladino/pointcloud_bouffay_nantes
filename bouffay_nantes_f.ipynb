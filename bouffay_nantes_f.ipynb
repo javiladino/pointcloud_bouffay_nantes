{
 "cells": [
  {
   "cell_type": "code",
   "execution_count": 6,
   "id": "7ff9ef9d",
   "metadata": {},
   "outputs": [],
   "source": [
    "# Data read & write\n",
    "import numpy as np\n",
    "import laspy\n",
    "import h5py\n",
    "# Visualization\n",
    "import open3d as o3d\n",
    "import pptk # works with Python 3.6"
   ]
  },
  {
   "cell_type": "code",
   "execution_count": 7,
   "id": "417277ea",
   "metadata": {},
   "outputs": [
    {
     "ename": "AttributeError",
     "evalue": "'open3d.cpu.pybind.geometry.PointCloud' object has no attribute 'get_volume'",
     "output_type": "error",
     "traceback": [
      "\u001b[0;31m---------------------------------------------------------------------------\u001b[0m",
      "\u001b[0;31mAttributeError\u001b[0m                            Traceback (most recent call last)",
      "\u001b[0;32m<ipython-input-7-296278662697>\u001b[0m in \u001b[0;36m<module>\u001b[0;34m\u001b[0m\n\u001b[1;32m      6\u001b[0m \u001b[0;34m\u001b[0m\u001b[0m\n\u001b[1;32m      7\u001b[0m \u001b[0;31m# Calcular la densidad de puntos\u001b[0m\u001b[0;34m\u001b[0m\u001b[0;34m\u001b[0m\u001b[0;34m\u001b[0m\u001b[0m\n\u001b[0;32m----> 8\u001b[0;31m \u001b[0mdensity\u001b[0m \u001b[0;34m=\u001b[0m \u001b[0mlen\u001b[0m\u001b[0;34m(\u001b[0m\u001b[0mpoint_cloud\u001b[0m\u001b[0;34m.\u001b[0m\u001b[0mpoints\u001b[0m\u001b[0;34m)\u001b[0m \u001b[0;34m/\u001b[0m \u001b[0mpoint_cloud\u001b[0m\u001b[0;34m.\u001b[0m\u001b[0mget_volume\u001b[0m\u001b[0;34m(\u001b[0m\u001b[0;34m)\u001b[0m\u001b[0;34m\u001b[0m\u001b[0;34m\u001b[0m\u001b[0m\n\u001b[0m\u001b[1;32m      9\u001b[0m \u001b[0;34m\u001b[0m\u001b[0m\n\u001b[1;32m     10\u001b[0m \u001b[0;31m# Ajustar un plano a la superficie de la nube de puntos\u001b[0m\u001b[0;34m\u001b[0m\u001b[0;34m\u001b[0m\u001b[0;34m\u001b[0m\u001b[0m\n",
      "\u001b[0;31mAttributeError\u001b[0m: 'open3d.cpu.pybind.geometry.PointCloud' object has no attribute 'get_volume'"
     ]
    }
   ],
   "source": [
    "# Cargar la nube de puntos desde el archivo .ply\n",
    "point_cloud = o3d.io.read_point_cloud(\"data/bouffay.ply\")\n",
    "\n",
    "# Visualizar la nube de puntos\n",
    "o3d.visualization.draw_geometries([point_cloud])\n",
    "\n",
    "# Calcular la densidad de puntos\n",
    "density = len(point_cloud.points) / point_cloud.get_volume()\n",
    "\n",
    "# Ajustar un plano a la superficie de la nube de puntos\n",
    "plane_model, inliers = point_cloud.segment_plane(distance_threshold=0.01, ransac_n=3, num_iterations=1000)\n",
    "plane_cloud = point_cloud.select_by_index(inliers)\n",
    "o3d.visualization.draw_geometries([plane_cloud])"
   ]
  },
  {
   "cell_type": "code",
   "execution_count": 3,
   "id": "f1bee4ea",
   "metadata": {},
   "outputs": [],
   "source": [
    "def rotate_view(vis):\n",
    "    ctr = vis.get_view_control()\n",
    "    ctr.rotate(10.0, 0.0)  # Ajusta la velocidad de rotación aquí\n",
    "    return False\n",
    "\n",
    "# Cargar la nube de puntos desde el archivo .ply\n",
    "point_cloud = o3d.io.read_point_cloud(\"data/bouffay.ply\")\n",
    "\n",
    "# Crear una instancia de la clase Visualizer\n",
    "vis = o3d.visualization.Visualizer()\n",
    "\n",
    "# Añadir la nube de puntos al visualizador\n",
    "vis.create_window()\n",
    "vis.add_geometry(point_cloud)\n",
    "\n",
    "# Configurar la función de animación\n",
    "vis.register_animation_callback(rotate_view)\n",
    "\n",
    "# Iniciar el bucle de renderizado\n",
    "vis.run()\n",
    "vis.destroy_window()"
   ]
  },
  {
   "cell_type": "code",
   "execution_count": 4,
   "id": "f1908efe",
   "metadata": {},
   "outputs": [],
   "source": [
    "def rotate_view(vis):\n",
    "    ctr = vis.get_view_control()\n",
    "    ctr.rotate(10.0, 0.0)  # Ajusta la velocidad de rotación aquí\n",
    "    return False\n",
    "\n",
    "# Cargar la nube de puntos desde el archivo .ply\n",
    "point_cloud = o3d.io.read_point_cloud(\"data/bouffay.ply\")\n",
    "\n",
    "# Crear una instancia de la clase Visualizer\n",
    "vis = o3d.visualization.Visualizer()\n",
    "\n",
    "# Añadir la nube de puntos al visualizador\n",
    "vis.create_window(window_name='Open3D', width=800, height=600, left=50, top=50, visible=True)\n",
    "vis.add_geometry(point_cloud)\n",
    "\n",
    "# Establecer el color de fondo a negro\n",
    "opt = vis.get_render_option()\n",
    "opt.background_color = np.asarray([0, 0, 0])  # Negro\n",
    "\n",
    "# Configurar la función de animación\n",
    "vis.register_animation_callback(rotate_view)\n",
    "\n",
    "# Iniciar el bucle de renderizado\n",
    "vis.run()\n",
    "vis.destroy_window()\n"
   ]
  }
 ],
 "metadata": {
  "kernelspec": {
   "display_name": "Python 3",
   "language": "python",
   "name": "python3"
  },
  "language_info": {
   "codemirror_mode": {
    "name": "ipython",
    "version": 3
   },
   "file_extension": ".py",
   "mimetype": "text/x-python",
   "name": "python",
   "nbconvert_exporter": "python",
   "pygments_lexer": "ipython3",
   "version": "3.6.15"
  }
 },
 "nbformat": 4,
 "nbformat_minor": 5
}
